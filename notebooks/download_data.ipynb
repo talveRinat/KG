{
 "cells": [
  {
   "cell_type": "code",
   "execution_count": 4,
   "metadata": {},
   "outputs": [],
   "source": [
    "import os\n",
    "os.chdir('..')"
   ]
  },
  {
   "cell_type": "code",
   "execution_count": 5,
   "metadata": {},
   "outputs": [],
   "source": [
    "from src import CustomGraph, AddData, Wrapper"
   ]
  },
  {
   "cell_type": "code",
   "execution_count": 6,
   "metadata": {},
   "outputs": [],
   "source": [
    "from src.utils import list_from_file"
   ]
  },
  {
   "cell_type": "markdown",
   "metadata": {},
   "source": [
    "## documentation"
   ]
  },
  {
   "cell_type": "code",
   "execution_count": 7,
   "metadata": {},
   "outputs": [],
   "source": [
    "g = CustomGraph()"
   ]
  },
  {
   "cell_type": "code",
   "execution_count": 8,
   "metadata": {},
   "outputs": [],
   "source": [
    "g.parse(\"http://www.semanticweb.org/football/\", \"data/football_antology.rdf\")"
   ]
  },
  {
   "cell_type": "code",
   "execution_count": 9,
   "metadata": {},
   "outputs": [],
   "source": [
    "# add classes, objects etc\n",
    "file_path = \"data/data_lists/\""
   ]
  },
  {
   "cell_type": "code",
   "execution_count": 10,
   "metadata": {},
   "outputs": [],
   "source": [
    "classes = list_from_file(file_path+\"classes\")\n",
    "obj_prop = list_from_file(file_path+\"obj_prop\")\n",
    "data_prop = list_from_file(file_path+\"data_prop\")"
   ]
  },
  {
   "cell_type": "code",
   "execution_count": 11,
   "metadata": {},
   "outputs": [],
   "source": [
    "for clss in classes:\n",
    "    g.add_class(clss)\n",
    "for opr in obj_prop:\n",
    "    g.add_object_property(opr)\n",
    "for dpr in data_prop:\n",
    "    g.add_data_property(dpr)"
   ]
  },
  {
   "cell_type": "code",
   "execution_count": 12,
   "metadata": {},
   "outputs": [],
   "source": [
    "# fullfill the antology\n",
    "wrapper = Wrapper()"
   ]
  },
  {
   "cell_type": "code",
   "execution_count": 13,
   "metadata": {},
   "outputs": [],
   "source": [
    "generator = wrapper.set_query(\n",
    "    \"\"\"\n",
    "    PREFIX dbo: <http://dbpedia.org/ontology/>\n",
    "    PREFIX rdfs: <http://www.w3.org/2000/01/rdf-schema#>\n",
    "\n",
    "    SELECT ?cityName ?stadiumName WHERE {\n",
    "    ?stadium rdf:type dbo:Stadium .\n",
    "    ?stadium dbo:location ?city .\n",
    "    ?city rdfs:label ?cityName .\n",
    "    ?stadium rdfs:label ?stadiumName .\n",
    "    ?stadium dbo:tenant ?team .\n",
    "    ?team rdf:type dbo:SoccerClub .\n",
    "    FILTER (LANG(?cityName) = 'en')\n",
    "    FILTER (LANG(?stadiumName) = 'en')\n",
    "    }\n",
    "    LIMIT 100\n",
    "\"\"\"\n",
    ")"
   ]
  },
  {
   "cell_type": "code",
   "execution_count": 14,
   "metadata": {},
   "outputs": [
    {
     "name": "stdout",
     "output_type": "stream",
     "text": [
      "{'cityName': 'California', 'stadiumName': 'California Memorial Stadium'}\n",
      "{'cityName': 'California, PA', 'stadiumName': 'California University of Pennsylvania Convocation Center'}\n",
      "{'cityName': 'California University of Pennsylvania', 'stadiumName': 'California University of Pennsylvania Convocation Center'}\n",
      "{'cityName': 'Cardiff', 'stadiumName': 'Cardiff International Sports Stadium'}\n",
      "{'cityName': 'Cardiff', 'stadiumName': 'Cardiff City Stadium'}\n",
      "{'cityName': 'Cardiff', 'stadiumName': 'Cardiff City Stadium'}\n",
      "{'cityName': 'Cardiff', 'stadiumName': 'Cardiff International Sports Stadium'}\n",
      "{'cityName': 'Catalonia', 'stadiumName': 'Camp Nou'}\n",
      "{'cityName': 'Prachinburi province', 'stadiumName': 'Prachinburi Provincial Administrative Organization Stadium'}\n",
      "{'cityName': 'Pärnu', 'stadiumName': 'Pärnu Sports Hall'}\n",
      "{'cityName': 'Carrington, Greater Manchester', 'stadiumName': 'Carrington Training Centre'}\n",
      "{'cityName': 'Carrington Moss', 'stadiumName': 'Carrington Training Centre'}\n",
      "{'cityName': 'Carrara, Queensland', 'stadiumName': 'Carrara Indoor Stadium'}\n",
      "{'cityName': 'Carrington, Greater Manchester', 'stadiumName': 'Carrington Training Centre'}\n",
      "{'cityName': 'Carrington Moss', 'stadiumName': 'Carrington Training Centre'}\n",
      "{'cityName': 'Carrington, Greater Manchester', 'stadiumName': 'Carrington Training Centre'}\n",
      "{'cityName': 'Carrington Moss', 'stadiumName': 'Carrington Training Centre'}\n",
      "{'cityName': 'Cardiff', 'stadiumName': 'Cardiff City Stadium'}\n",
      "{'cityName': 'Cape Coast', 'stadiumName': 'Cape Coast Sports Stadium'}\n",
      "{'cityName': 'Catalonia', 'stadiumName': \"Camp d'Esports\"}\n",
      "{'cityName': 'Queens', 'stadiumName': 'Belson Stadium'}\n",
      "{'cityName': 'Catalonia', 'stadiumName': 'Camp Nou'}\n",
      "{'cityName': 'Catalonia', 'stadiumName': 'Camp de la Indústria'}\n",
      "{'cityName': 'Ptuj', 'stadiumName': 'Ptuj City Stadium'}\n",
      "{'cityName': 'Priboj', 'stadiumName': 'Priboj City Stadium'}\n",
      "{'cityName': 'Prachuap Khiri Khan Province', 'stadiumName': 'Prachuap Khiri Khan Province Stadium'}\n",
      "{'cityName': 'Cardiff', 'stadiumName': 'Cardiff International Sports Stadium'}\n",
      "{'cityName': 'Carolina, Puerto Rico', 'stadiumName': 'Roberto Clemente Stadium'}\n",
      "{'cityName': 'Puente de Vallecas', 'stadiumName': 'Campo de Fútbol de Vallecas'}\n",
      "{'cityName': 'Puente de Vallecas', 'stadiumName': 'Campo de Fútbol de Vallecas'}\n",
      "{'cityName': 'Queens', 'stadiumName': 'Belson Stadium'}\n",
      "{'cityName': 'Queens', 'stadiumName': 'Belson Stadium'}\n",
      "{'cityName': 'Queens', 'stadiumName': 'Belson Stadium'}\n",
      "{'cityName': 'Queens', 'stadiumName': 'Belson Stadium'}\n",
      "{'cityName': 'Puente de Vallecas', 'stadiumName': 'Campo de Fútbol de Vallecas'}\n",
      "{'cityName': 'Prachinburi province', 'stadiumName': 'Prachinburi Provincial Administrative Organization Stadium'}\n",
      "{'cityName': 'Bendigo', 'stadiumName': 'Queen Elizabeth Oval'}\n",
      "{'cityName': 'Beijing', 'stadiumName': 'Beijing Fengtai Stadium'}\n",
      "{'cityName': 'Beijing', 'stadiumName': 'Beijing Fengtai Stadium'}\n",
      "{'cityName': 'Quincy, Illinois', 'stadiumName': 'QU Stadium'}\n",
      "{'cityName': 'Queensland', 'stadiumName': 'Robina Stadium'}\n",
      "{'cityName': 'Robina, Queensland', 'stadiumName': 'Robina Stadium'}\n",
      "{'cityName': 'Queensland', 'stadiumName': 'Carrara Indoor Stadium'}\n",
      "{'cityName': 'Queensland', 'stadiumName': 'Robina Stadium'}\n",
      "{'cityName': 'Robina, Queensland', 'stadiumName': 'Robina Stadium'}\n",
      "{'cityName': 'Pride Park', 'stadiumName': 'Pride Park Stadium'}\n",
      "{'cityName': 'Saudi Arabia', 'stadiumName': 'Prince Abdullah bin Jalawi Stadium'}\n",
      "{'cityName': 'Saudi Arabia', 'stadiumName': 'Prince Mohamed bin Fahd Stadium'}\n",
      "{'cityName': 'Saudi Arabia', 'stadiumName': 'Prince Mohamed bin Fahd Stadium'}\n",
      "{'cityName': 'Beirut', 'stadiumName': 'Camille Chamoun Sports City Stadium'}\n",
      "{'cityName': 'Santander, Spain', 'stadiumName': 'Campos de Sport de El Sardinero'}\n",
      "{'cityName': 'San Fermín (Madrid)', 'stadiumName': 'Caja Mágica'}\n",
      "{'cityName': 'Queenstown, New Zealand', 'stadiumName': 'Queenstown Events Centre'}\n",
      "{'cityName': 'Queens', 'stadiumName': 'Belson Stadium'}\n",
      "{'cityName': 'Roi Et province', 'stadiumName': 'Roi Et Province Stadium'}\n",
      "{'cityName': 'Queensland', 'stadiumName': 'Robina Stadium'}\n",
      "{'cityName': 'Robina, Queensland', 'stadiumName': 'Robina Stadium'}\n",
      "{'cityName': 'Berkeley, California', 'stadiumName': 'California Memorial Stadium'}\n",
      "{'cityName': 'Brazil', 'stadiumName': 'Castelão (Maranhão)'}\n",
      "{'cityName': 'Bendigo', 'stadiumName': 'Queen Elizabeth Oval'}\n",
      "{'cityName': 'Detroit', 'stadiumName': 'Calihan Hall'}\n",
      "{'cityName': 'Johnstown, Pennsylvania', 'stadiumName': 'Cambria County War Memorial Arena'}\n",
      "{'cityName': 'Jordan', 'stadiumName': 'Prince Mohammed Stadium'}\n",
      "{'cityName': 'Jordan', 'stadiumName': 'Prince Mohammed Stadium'}\n",
      "{'cityName': 'Brazil', 'stadiumName': 'Castelão (Maranhão)'}\n",
      "{'cityName': 'Boone, North Carolina', 'stadiumName': 'Beaver Field at Jim and Bettie Smith Stadium'}\n",
      "{'cityName': 'Birkenhead', 'stadiumName': 'Prenton Park'}\n",
      "{'cityName': 'Derby', 'stadiumName': 'Pride Park Stadium'}\n",
      "{'cityName': 'Birkenhead', 'stadiumName': 'Prenton Park'}\n",
      "{'cityName': 'Hofuf', 'stadiumName': 'Prince Abdullah bin Jalawi Stadium'}\n",
      "{'cityName': 'Jordan', 'stadiumName': 'Prince Hashim Stadium'}\n",
      "{'cityName': 'Jordan', 'stadiumName': 'Prince Hashim Stadium'}\n",
      "{'cityName': 'Jordan', 'stadiumName': 'Prince Hashim Stadium'}\n",
      "{'cityName': 'Jordan', 'stadiumName': 'Prince Hashim Stadium'}\n",
      "{'cityName': 'Brazil', 'stadiumName': 'Castelão (Maranhão)'}\n",
      "{'cityName': 'Huntington, West Virginia', 'stadiumName': 'Cam Henderson Center'}\n",
      "{'cityName': 'Bendigo', 'stadiumName': 'Queen Elizabeth Oval'}\n",
      "{'cityName': 'Jordan', 'stadiumName': 'Prince Hashim Stadium'}\n",
      "{'cityName': 'Birkenhead', 'stadiumName': 'Prenton Park'}\n",
      "{'cityName': 'Jordan', 'stadiumName': 'Prince Mohammed Stadium'}\n",
      "{'cityName': 'Bowie, Maryland', 'stadiumName': \"Prince George's Stadium\"}\n",
      "{'cityName': 'University of California, Berkeley', 'stadiumName': 'California Memorial Stadium'}\n",
      "{'cityName': 'Victoria (Australia)', 'stadiumName': 'Queen Elizabeth Oval'}\n",
      "{'cityName': 'Victoria (Australia)', 'stadiumName': 'Queen Elizabeth Oval'}\n",
      "{'cityName': 'Vancouver', 'stadiumName': 'Rogers Arena'}\n",
      "{'cityName': 'Vancouver', 'stadiumName': 'Rogers Arena'}\n",
      "{'cityName': 'Victoria (Australia)', 'stadiumName': 'Rod Laver Arena'}\n",
      "{'cityName': 'Republic of Ireland', 'stadiumName': 'Páirc Uí Chaoimh'}\n",
      "{'cityName': 'United States', 'stadiumName': 'QU Stadium'}\n",
      "{'cityName': 'Utopia Parkway (Queens)', 'stadiumName': 'Belson Stadium'}\n",
      "{'cityName': 'Victoria (Australia)', 'stadiumName': 'Queen Elizabeth Oval'}\n",
      "{'cityName': 'Utopia Parkway (Queens)', 'stadiumName': 'Belson Stadium'}\n",
      "{'cityName': 'Utopia Parkway (Queens)', 'stadiumName': 'Belson Stadium'}\n",
      "{'cityName': 'Utopia Parkway (Queens)', 'stadiumName': 'Belson Stadium'}\n",
      "{'cityName': 'Utopia Parkway (Queens)', 'stadiumName': 'Belson Stadium'}\n",
      "{'cityName': 'Utopia Parkway (Queens)', 'stadiumName': 'Belson Stadium'}\n",
      "{'cityName': 'Victoria (Australia)', 'stadiumName': 'Rod Laver Arena'}\n",
      "{'cityName': 'Victoria (Australia)', 'stadiumName': 'Rod Laver Arena'}\n",
      "{'cityName': 'Gillingham, Kent', 'stadiumName': 'Priestfield Stadium'}\n",
      "{'cityName': 'Melbourne', 'stadiumName': 'Rod Laver Arena'}\n"
     ]
    }
   ],
   "source": [
    "for i in generator:\n",
    "    print(i)"
   ]
  },
  {
   "cell_type": "code",
   "execution_count": null,
   "metadata": {},
   "outputs": [],
   "source": [
    "\n",
    "AddData.add_stadium(\n",
    "    g: CustomGraph, \n",
    "    country_name: object, \n",
    "    city_name: object, \n",
    "    stadium_name: object\n",
    ")"
   ]
  },
  {
   "cell_type": "code",
   "execution_count": 3,
   "metadata": {},
   "outputs": [
    {
     "ename": "SyntaxError",
     "evalue": "invalid syntax (691525126.py, line 2)",
     "output_type": "error",
     "traceback": [
      "\u001b[0;36m  Cell \u001b[0;32mIn[3], line 2\u001b[0;36m\u001b[0m\n\u001b[0;31m    g: CustomGraph,\u001b[0m\n\u001b[0m     ^\u001b[0m\n\u001b[0;31mSyntaxError\u001b[0m\u001b[0;31m:\u001b[0m invalid syntax\n"
     ]
    }
   ],
   "source": [
    "AddData.add_competition(\n",
    "    g: CustomGraph,\n",
    "    competition_type: object,\n",
    "    competition_name: object,\n",
    "    competition_start_date: Optional[object],\n",
    "    compettiton_end_date: Optional[object],\n",
    "    competition_statistic: Optional[object],\n",
    ")"
   ]
  },
  {
   "cell_type": "code",
   "execution_count": null,
   "metadata": {},
   "outputs": [],
   "source": [
    "AddData.add_team(\n",
    "    g: CustomGraph,\n",
    "    team_type: object,\n",
    "    team_name: object,\n",
    "    team_found_date: Optional[object],\n",
    "    team_close_date: Optional[object],\n",
    "    team_statistic: Optional[object],\n",
    ")"
   ]
  },
  {
   "cell_type": "code",
   "execution_count": null,
   "metadata": {},
   "outputs": [],
   "source": [
    "AddData.add_player_position(\n",
    "    g: CustomGraph, \n",
    "    position_name: Optional[object]\n",
    ")"
   ]
  },
  {
   "cell_type": "code",
   "execution_count": null,
   "metadata": {},
   "outputs": [],
   "source": [
    "AddData.add_player(\n",
    "    g: CustomGraph,\n",
    "    player_name: object,\n",
    "    team_name: object,\n",
    "    position_name: Optional[object],\n",
    "    player_emploing_date: Optional[object],\n",
    "    player_fire_date: Optional[object],\n",
    "    player_statistic: Optional[object],\n",
    ")"
   ]
  },
  {
   "cell_type": "code",
   "execution_count": null,
   "metadata": {},
   "outputs": [],
   "source": [
    "AddData.add_coach(\n",
    "    g: CustomGraph,\n",
    "    coach_name: object,\n",
    "    team_name: object,\n",
    "    coach_emploing_date: Optional[object],\n",
    "    coach_fire_date: Optional[object],\n",
    "    coach_statistic: Optional[object],\n",
    ")"
   ]
  },
  {
   "cell_type": "code",
   "execution_count": null,
   "metadata": {},
   "outputs": [],
   "source": [
    "AddData.add_play(\n",
    "    g: CustomGraph,\n",
    "    play_name: object,\n",
    "    competition_name: object,\n",
    "    team1_name: object,\n",
    "    team2_name: object,\n",
    "    play_date: Optional[object],\n",
    "    play_statistic: Optional[object],\n",
    ")"
   ]
  },
  {
   "cell_type": "code",
   "execution_count": null,
   "metadata": {},
   "outputs": [],
   "source": [
    "# end\n",
    "g.serialize(\n",
    "    destination='data/football_antology_full.rdf',\n",
    "    format='xml'\n",
    ")"
   ]
  }
 ],
 "metadata": {
  "kernelspec": {
   "display_name": ".venv",
   "language": "python",
   "name": "python3"
  },
  "language_info": {
   "codemirror_mode": {
    "name": "ipython",
    "version": 3
   },
   "file_extension": ".py",
   "mimetype": "text/x-python",
   "name": "python",
   "nbconvert_exporter": "python",
   "pygments_lexer": "ipython3",
   "version": "3.10.12"
  }
 },
 "nbformat": 4,
 "nbformat_minor": 2
}
