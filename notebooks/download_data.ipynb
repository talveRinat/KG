{
 "cells": [
  {
   "cell_type": "code",
   "execution_count": 1,
   "metadata": {},
   "outputs": [],
   "source": [
    "import os\n",
    "os.chdir('..')"
   ]
  },
  {
   "cell_type": "code",
   "execution_count": 2,
   "metadata": {},
   "outputs": [],
   "source": [
    "from src import CustomGraph, AddData"
   ]
  },
  {
   "cell_type": "code",
   "execution_count": 3,
   "metadata": {},
   "outputs": [],
   "source": [
    "from src.utils import list_from_file"
   ]
  },
  {
   "cell_type": "markdown",
   "metadata": {},
   "source": [
    "## documentation"
   ]
  },
  {
   "cell_type": "code",
   "execution_count": 4,
   "metadata": {},
   "outputs": [],
   "source": [
    "g = CustomGraph()"
   ]
  },
  {
   "cell_type": "code",
   "execution_count": 5,
   "metadata": {},
   "outputs": [],
   "source": [
    "g.parse(\"http://www.semanticweb.org/football/\", \"data/football_antology.rdf\")"
   ]
  },
  {
   "cell_type": "code",
   "execution_count": 6,
   "metadata": {},
   "outputs": [],
   "source": [
    "# add classes, objects etc\n",
    "file_path = \"data/data_lists/\""
   ]
  },
  {
   "cell_type": "code",
   "execution_count": 7,
   "metadata": {},
   "outputs": [],
   "source": [
    "classes = list_from_file(file_path+\"classes\")\n",
    "obj_prop = list_from_file(file_path+\"obj_prop\")\n",
    "data_prop = list_from_file(file_path+\"data_prop\")"
   ]
  },
  {
   "cell_type": "code",
   "execution_count": 8,
   "metadata": {},
   "outputs": [],
   "source": [
    "for clss in classes:\n",
    "    g.add_class(clss)\n",
    "for opr in obj_prop:\n",
    "    g.add_object_property(opr)\n",
    "for dpr in data_prop:\n",
    "    g.add_data_property(dpr)"
   ]
  },
  {
   "cell_type": "code",
   "execution_count": 9,
   "metadata": {},
   "outputs": [],
   "source": [
    "# fullfill the antology"
   ]
  },
  {
   "cell_type": "code",
   "execution_count": 11,
   "metadata": {},
   "outputs": [
    {
     "name": "stdout",
     "output_type": "stream",
     "text": [
      "Success\n"
     ]
    }
   ],
   "source": [
    "AddData.add_stadium(\n",
    "    g: CustomGraph, \n",
    "    country_name: object, \n",
    "    city_name: object, \n",
    "    stadium_name: object\n",
    ")"
   ]
  },
  {
   "cell_type": "code",
   "execution_count": null,
   "metadata": {},
   "outputs": [],
   "source": [
    "AddData.add_competition(\n",
    "    g: CustomGraph,\n",
    "    competition_type: object,\n",
    "    competition_name: object,\n",
    "    competition_start_date: Optional[object],\n",
    "    compettiton_end_date: Optional[object],\n",
    "    competition_statistic: Optional[object],\n",
    ")"
   ]
  },
  {
   "cell_type": "code",
   "execution_count": null,
   "metadata": {},
   "outputs": [],
   "source": [
    "AddData.add_team(\n",
    "    g: CustomGraph,\n",
    "    team_type: object,\n",
    "    team_name: object,\n",
    "    team_found_date: Optional[object],\n",
    "    team_close_date: Optional[object],\n",
    "    team_statistic: Optional[object],\n",
    ")"
   ]
  },
  {
   "cell_type": "code",
   "execution_count": null,
   "metadata": {},
   "outputs": [],
   "source": [
    "AddData.add_player_position(\n",
    "    g: CustomGraph, \n",
    "    position_name: Optional[object]\n",
    ")"
   ]
  },
  {
   "cell_type": "code",
   "execution_count": null,
   "metadata": {},
   "outputs": [],
   "source": [
    "AddData.add_player(\n",
    "    g: CustomGraph,\n",
    "    player_name: object,\n",
    "    team_name: object,\n",
    "    position_name: Optional[object],\n",
    "    player_emploing_date: Optional[object],\n",
    "    player_fire_date: Optional[object],\n",
    "    player_statistic: Optional[object],\n",
    ")"
   ]
  },
  {
   "cell_type": "code",
   "execution_count": null,
   "metadata": {},
   "outputs": [],
   "source": [
    "AddData.add_coach(\n",
    "    g: CustomGraph,\n",
    "    coach_name: object,\n",
    "    team_name: object,\n",
    "    coach_emploing_date: Optional[object],\n",
    "    coach_fire_date: Optional[object],\n",
    "    coach_statistic: Optional[object],\n",
    ")"
   ]
  },
  {
   "cell_type": "code",
   "execution_count": null,
   "metadata": {},
   "outputs": [],
   "source": [
    "AddData.add_play(\n",
    "    g: CustomGraph,\n",
    "    play_name: object,\n",
    "    competition_name: object,\n",
    "    team1_name: object,\n",
    "    team2_name: object,\n",
    "    play_date: Optional[object],\n",
    "    play_statistic: Optional[object],\n",
    ")"
   ]
  },
  {
   "cell_type": "code",
   "execution_count": null,
   "metadata": {},
   "outputs": [],
   "source": [
    "# end\n",
    "g.serialize(\n",
    "    destination='data/football_antology_full.rdf',\n",
    "    format='xml'\n",
    ")"
   ]
  }
 ],
 "metadata": {
  "kernelspec": {
   "display_name": ".venv",
   "language": "python",
   "name": "python3"
  },
  "language_info": {
   "codemirror_mode": {
    "name": "ipython",
    "version": 3
   },
   "file_extension": ".py",
   "mimetype": "text/x-python",
   "name": "python",
   "nbconvert_exporter": "python",
   "pygments_lexer": "ipython3",
   "version": "3.10.12"
  }
 },
 "nbformat": 4,
 "nbformat_minor": 2
}
